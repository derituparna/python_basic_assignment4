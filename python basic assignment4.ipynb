{
 "cells": [
  {
   "cell_type": "markdown",
   "id": "26976a2f",
   "metadata": {},
   "source": [
    "1. What exactly is []?"
   ]
  },
  {
   "cell_type": "code",
   "execution_count": null,
   "id": "0927c9a7",
   "metadata": {},
   "outputs": [],
   "source": [
    "=>The empty list value, which is a list value that contains no items."
   ]
  },
  {
   "cell_type": "markdown",
   "id": "266674f6",
   "metadata": {},
   "source": [
    "2. In a list of values stored in a variable called spam, how would you assign the value hello; as the\n",
    "third value? (Assume [2, 4, 6, 8, 10] are in spam.)"
   ]
  },
  {
   "cell_type": "code",
   "execution_count": 1,
   "id": "2a921efc",
   "metadata": {},
   "outputs": [
    {
     "data": {
      "text/plain": [
       "[2, 4, 'hell0', 8.1]"
      ]
     },
     "execution_count": 1,
     "metadata": {},
     "output_type": "execute_result"
    }
   ],
   "source": [
    "spam=[2,4,6,8.10]\n",
    "spam[2]=\"hell0\"\n",
    "spam"
   ]
  },
  {
   "cell_type": "markdown",
   "id": "ff1ffc33",
   "metadata": {},
   "source": [
    "Let pretend the spam includes the list [a,b,c,d] for the next three queries.\n",
    "\n",
    "3. What is the value of spam[int(int(3 * 2) / 11)]?"
   ]
  },
  {
   "cell_type": "code",
   "execution_count": 2,
   "id": "955b4ec4",
   "metadata": {},
   "outputs": [
    {
     "data": {
      "text/plain": [
       "'a'"
      ]
     },
     "execution_count": 2,
     "metadata": {},
     "output_type": "execute_result"
    }
   ],
   "source": [
    "spam=['a','b','c','d']\n",
    "spam[int(int(3 * 2) / 11)]"
   ]
  },
  {
   "cell_type": "markdown",
   "id": "1fad09cb",
   "metadata": {},
   "source": [
    "4. What is the value of spam[-1]?"
   ]
  },
  {
   "cell_type": "code",
   "execution_count": 3,
   "id": "c0b8ffb3",
   "metadata": {},
   "outputs": [
    {
     "data": {
      "text/plain": [
       "'d'"
      ]
     },
     "execution_count": 3,
     "metadata": {},
     "output_type": "execute_result"
    }
   ],
   "source": [
    "spam[-1]"
   ]
  },
  {
   "cell_type": "markdown",
   "id": "cfbd92e2",
   "metadata": {},
   "source": [
    "5. What is the value of spam[:2]?"
   ]
  },
  {
   "cell_type": "code",
   "execution_count": 4,
   "id": "5100a42f",
   "metadata": {},
   "outputs": [
    {
     "data": {
      "text/plain": [
       "['a', 'b']"
      ]
     },
     "execution_count": 4,
     "metadata": {},
     "output_type": "execute_result"
    }
   ],
   "source": [
    "spam[:2]"
   ]
  },
  {
   "cell_type": "markdown",
   "id": "dd33ce24",
   "metadata": {},
   "source": [
    "Let's pretend bacon has the list [3.14,cat,11,cat,True] for the next three questions.\n",
    "\n",
    "6. What is the value of bacon.index('cat')?"
   ]
  },
  {
   "cell_type": "code",
   "execution_count": 5,
   "id": "7094d492",
   "metadata": {},
   "outputs": [
    {
     "data": {
      "text/plain": [
       "1"
      ]
     },
     "execution_count": 5,
     "metadata": {},
     "output_type": "execute_result"
    }
   ],
   "source": [
    "bacon=[3.14,'cat',11,'cat',True]\n",
    "bacon.index('cat')"
   ]
  },
  {
   "cell_type": "markdown",
   "id": "e3f6fa64",
   "metadata": {},
   "source": [
    "7. How does bacon.append(99) change the look of the list value in bacon?"
   ]
  },
  {
   "cell_type": "code",
   "execution_count": 6,
   "id": "1c3fa617",
   "metadata": {},
   "outputs": [
    {
     "data": {
      "text/plain": [
       "[3.14, 'cat', 11, 'cat', True, 99]"
      ]
     },
     "execution_count": 6,
     "metadata": {},
     "output_type": "execute_result"
    }
   ],
   "source": [
    "bacon.append(99) \n",
    "bacon"
   ]
  },
  {
   "cell_type": "markdown",
   "id": "d5c1f991",
   "metadata": {},
   "source": [
    "8. How does bacon.remove(cat) change the look of the list in bacon?"
   ]
  },
  {
   "cell_type": "code",
   "execution_count": 7,
   "id": "d174e9af",
   "metadata": {},
   "outputs": [
    {
     "data": {
      "text/plain": [
       "[3.14, 11, 'cat', True, 99]"
      ]
     },
     "execution_count": 7,
     "metadata": {},
     "output_type": "execute_result"
    }
   ],
   "source": [
    "bacon.remove('cat')\n",
    "bacon"
   ]
  },
  {
   "cell_type": "markdown",
   "id": "3b71f89d",
   "metadata": {},
   "source": [
    "9. What are the list concatenation and list replication operators?"
   ]
  },
  {
   "cell_type": "code",
   "execution_count": null,
   "id": "4251f2f4",
   "metadata": {},
   "outputs": [],
   "source": [
    "* : is list replication operator.\n",
    "+ : is list concatination operator."
   ]
  },
  {
   "cell_type": "markdown",
   "id": "f3c7acf8",
   "metadata": {},
   "source": [
    "10. What is difference between the list methods append() and insert()?"
   ]
  },
  {
   "cell_type": "code",
   "execution_count": null,
   "id": "1da2048f",
   "metadata": {},
   "outputs": [],
   "source": [
    "=>append() : when we add any value.\n",
    "  insert() : when we add any value in particuler position."
   ]
  },
  {
   "cell_type": "markdown",
   "id": "fed26402",
   "metadata": {},
   "source": [
    "11. What are the two methods for removing items from a list?"
   ]
  },
  {
   "cell_type": "code",
   "execution_count": null,
   "id": "1c80fcaa",
   "metadata": {},
   "outputs": [],
   "source": [
    "=> remove() : It is use particuler value remove [Ex-remove('99')]\n",
    "   pop() : It's work remove the last value."
   ]
  },
  {
   "cell_type": "markdown",
   "id": "dd6e9e09",
   "metadata": {},
   "source": [
    "12. Describe how list values and string values are identical."
   ]
  },
  {
   "cell_type": "code",
   "execution_count": null,
   "id": "988899e3",
   "metadata": {},
   "outputs": [],
   "source": [
    "=>Both lists and strings can be passed to len().\n",
    "  Have indexes and slices.\n",
    "  Can be used in for loops.\n",
    "  Can be concatenated or replicated."
   ]
  },
  {
   "cell_type": "markdown",
   "id": "8cd4ee77",
   "metadata": {},
   "source": [
    "13. Whats the difference between tuples and lists?"
   ]
  },
  {
   "cell_type": "code",
   "execution_count": null,
   "id": "65d0e461",
   "metadata": {},
   "outputs": [],
   "source": [
    "=> Lists : are mutable - they can have values added, removed, or changed. lists use the square brackets, [  ]\n",
    "Tuples : are immutable; they cannot be changed at all. Tuples are written using parentheses, (  )"
   ]
  },
  {
   "cell_type": "markdown",
   "id": "1b5f2f18",
   "metadata": {},
   "source": [
    "14. How do you type a tuple value that only contains the integer 42?"
   ]
  },
  {
   "cell_type": "markdown",
   "id": "05493af7",
   "metadata": {},
   "source": [
    "15. How do you get a list values tuple form? How do you get a tuple values list form?"
   ]
  },
  {
   "cell_type": "code",
   "execution_count": 9,
   "id": "d52f47e7",
   "metadata": {},
   "outputs": [
    {
     "data": {
      "text/plain": [
       "(5, 3)"
      ]
     },
     "execution_count": 9,
     "metadata": {},
     "output_type": "execute_result"
    }
   ],
   "source": [
    "l = [5,3]\n",
    "l1 = tuple(l)\n",
    "l1"
   ]
  },
  {
   "cell_type": "code",
   "execution_count": 10,
   "id": "c1334e0c",
   "metadata": {},
   "outputs": [
    {
     "data": {
      "text/plain": [
       "[3, 4]"
      ]
     },
     "execution_count": 10,
     "metadata": {},
     "output_type": "execute_result"
    }
   ],
   "source": [
    "l2=(3,4)\n",
    "l3=list(l2)\n",
    "l3"
   ]
  },
  {
   "cell_type": "markdown",
   "id": "8d5e9aba",
   "metadata": {},
   "source": [
    "17. How do you distinguish between copy.copy() and copy.deepcopy()?"
   ]
  },
  {
   "cell_type": "code",
   "execution_count": null,
   "id": "9874bbee",
   "metadata": {},
   "outputs": [],
   "source": [
    "=>The copy.copy() function will do a shallow copy of a list.\n",
    "  The copy.deepcopy() function will do a deep copy of a list. Only copy.deepcopy() will duplicate any lists inside the list."
   ]
  },
  {
   "cell_type": "code",
   "execution_count": null,
   "id": "33cc8ad5",
   "metadata": {},
   "outputs": [],
   "source": []
  }
 ],
 "metadata": {
  "kernelspec": {
   "display_name": "Python 3",
   "language": "python",
   "name": "python3"
  },
  "language_info": {
   "codemirror_mode": {
    "name": "ipython",
    "version": 3
   },
   "file_extension": ".py",
   "mimetype": "text/x-python",
   "name": "python",
   "nbconvert_exporter": "python",
   "pygments_lexer": "ipython3",
   "version": "3.8.8"
  }
 },
 "nbformat": 4,
 "nbformat_minor": 5
}
